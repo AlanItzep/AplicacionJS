{
  "nbformat": 4,
  "nbformat_minor": 0,
  "metadata": {
    "colab": {
      "name": "Autoencoder.ipynb",
      "version": "0.3.2",
      "provenance": [],
      "include_colab_link": true
    },
    "kernelspec": {
      "name": "python3",
      "display_name": "Python 3"
    }
  },
  "cells": [
    {
      "cell_type": "markdown",
      "metadata": {
        "id": "view-in-github",
        "colab_type": "text"
      },
      "source": [
        "<a href=\"https://colab.research.google.com/github/AlanItzep/AplicacionJS/blob/master/Autoencoder.ipynb\" target=\"_parent\"><img src=\"https://colab.research.google.com/assets/colab-badge.svg\" alt=\"Open In Colab\"/></a>"
      ]
    },
    {
      "metadata": {
        "id": "hC7OJ8Ylechp",
        "colab_type": "code",
        "colab": {}
      },
      "cell_type": "code",
      "source": [
        "from keras.layers import Input, Dense\n",
        "from keras.models import Model"
      ],
      "execution_count": 0,
      "outputs": []
    },
    {
      "metadata": {
        "id": "ElsFPpxvgpCn",
        "colab_type": "code",
        "colab": {}
      },
      "cell_type": "code",
      "source": [
        "encoding_dim = 32"
      ],
      "execution_count": 0,
      "outputs": []
    },
    {
      "metadata": {
        "id": "hAV3JBQBgtHF",
        "colab_type": "code",
        "colab": {}
      },
      "cell_type": "code",
      "source": [
        "input_img = Input(shape=(784,))"
      ],
      "execution_count": 0,
      "outputs": []
    },
    {
      "metadata": {
        "id": "qv1x_kg8g7Nb",
        "colab_type": "code",
        "colab": {}
      },
      "cell_type": "code",
      "source": [
        "encoded = Dense(encoding_dim, activation = 'relu')(input_img)"
      ],
      "execution_count": 0,
      "outputs": []
    },
    {
      "metadata": {
        "id": "WdJasYv1hIXn",
        "colab_type": "code",
        "colab": {}
      },
      "cell_type": "code",
      "source": [
        "decoded = Dense(784, activation = 'sigmoid')(encoded)"
      ],
      "execution_count": 0,
      "outputs": []
    },
    {
      "metadata": {
        "id": "wGFaceaPhOaB",
        "colab_type": "code",
        "colab": {}
      },
      "cell_type": "code",
      "source": [
        "autoencoder = Model(input_img, decoded)"
      ],
      "execution_count": 0,
      "outputs": []
    },
    {
      "metadata": {
        "id": "SLpuJ8dzhU-q",
        "colab_type": "code",
        "colab": {}
      },
      "cell_type": "code",
      "source": [
        "encoder = Model(input_img, encoded)"
      ],
      "execution_count": 0,
      "outputs": []
    },
    {
      "metadata": {
        "id": "I8s5P36UhcN1",
        "colab_type": "code",
        "colab": {}
      },
      "cell_type": "code",
      "source": [
        "encoded_input = Input(shape=(encoding_dim,))\n",
        "decoder_layer = autoencoder.layers[-1]\n",
        "decoder = Model(encoded_input, decoder_layer(encoded_input))"
      ],
      "execution_count": 0,
      "outputs": []
    },
    {
      "metadata": {
        "id": "OmWTKGw4h1jM",
        "colab_type": "code",
        "colab": {}
      },
      "cell_type": "code",
      "source": [
        "autoencoder.compile(optimizer='adadelta', loss='binary_crossentropy')"
      ],
      "execution_count": 0,
      "outputs": []
    },
    {
      "metadata": {
        "id": "2IKfcQyjiCsI",
        "colab_type": "code",
        "colab": {}
      },
      "cell_type": "code",
      "source": [
        "from keras.datasets import mnist\n",
        "import numpy as np\n",
        "(x_train, _), (x_test, _) = mnist.load_data()"
      ],
      "execution_count": 0,
      "outputs": []
    },
    {
      "metadata": {
        "id": "R_qPmsSMiQRp",
        "colab_type": "code",
        "colab": {
          "base_uri": "https://localhost:8080/",
          "height": 54
        },
        "outputId": "934a53f1-b5ce-42c8-899c-4b6f919e9f07"
      },
      "cell_type": "code",
      "source": [
        "x_train = x_train.astype('float32')/255.\n",
        "x_test = x_test.astype('float32')/255.\n",
        "x_train = x_train.reshape((len(x_train), np.prod(x_train.shape[1:])))\n",
        "x_test = x_test.reshape((len(x_test), np.prod(x_test.shape[1:])))\n",
        "print(x_train.shape)\n",
        "print(x_test.shape)"
      ],
      "execution_count": 60,
      "outputs": [
        {
          "output_type": "stream",
          "text": [
            "(60000, 784)\n",
            "(10000, 784)\n"
          ],
          "name": "stdout"
        }
      ]
    },
    {
      "metadata": {
        "id": "Kqvxelj3jAl2",
        "colab_type": "code",
        "colab": {
          "base_uri": "https://localhost:8080/",
          "height": 3767
        },
        "outputId": "6c0cb870-7f0a-48c3-c67f-8669791699ce"
      },
      "cell_type": "code",
      "source": [
        "autoencoder.fit(x_train, x_train,\n",
        "               epochs=100,\n",
        "               batch_size = 256,\n",
        "               shuffle = True,\n",
        "               validation_data = (x_test, x_test))"
      ],
      "execution_count": 61,
      "outputs": [
        {
          "output_type": "stream",
          "text": [
            "Train on 60000 samples, validate on 10000 samples\n",
            "Epoch 1/100\n",
            "60000/60000 [==============================] - 4s 70us/step - loss: 0.3553 - val_loss: 0.2699\n",
            "Epoch 2/100\n",
            "60000/60000 [==============================] - 4s 63us/step - loss: 0.2617 - val_loss: 0.2498\n",
            "Epoch 3/100\n",
            "60000/60000 [==============================] - 4s 64us/step - loss: 0.2399 - val_loss: 0.2280\n",
            "Epoch 4/100\n",
            "60000/60000 [==============================] - 4s 63us/step - loss: 0.2204 - val_loss: 0.2103\n",
            "Epoch 5/100\n",
            "60000/60000 [==============================] - 4s 61us/step - loss: 0.2052 - val_loss: 0.1975\n",
            "Epoch 6/100\n",
            "60000/60000 [==============================] - 4s 63us/step - loss: 0.1939 - val_loss: 0.1877\n",
            "Epoch 7/100\n",
            "60000/60000 [==============================] - 4s 62us/step - loss: 0.1851 - val_loss: 0.1798\n",
            "Epoch 8/100\n",
            "60000/60000 [==============================] - 4s 63us/step - loss: 0.1779 - val_loss: 0.1733\n",
            "Epoch 9/100\n",
            "60000/60000 [==============================] - 4s 59us/step - loss: 0.1720 - val_loss: 0.1679\n",
            "Epoch 10/100\n",
            "60000/60000 [==============================] - 4s 62us/step - loss: 0.1670 - val_loss: 0.1633\n",
            "Epoch 11/100\n",
            "60000/60000 [==============================] - 4s 63us/step - loss: 0.1627 - val_loss: 0.1591\n",
            "Epoch 12/100\n",
            "60000/60000 [==============================] - 4s 63us/step - loss: 0.1587 - val_loss: 0.1554\n",
            "Epoch 13/100\n",
            "60000/60000 [==============================] - 4s 62us/step - loss: 0.1552 - val_loss: 0.1520\n",
            "Epoch 14/100\n",
            "60000/60000 [==============================] - 4s 61us/step - loss: 0.1518 - val_loss: 0.1486\n",
            "Epoch 15/100\n",
            "60000/60000 [==============================] - 4s 62us/step - loss: 0.1487 - val_loss: 0.1457\n",
            "Epoch 16/100\n",
            "60000/60000 [==============================] - 4s 62us/step - loss: 0.1457 - val_loss: 0.1428\n",
            "Epoch 17/100\n",
            "60000/60000 [==============================] - 4s 61us/step - loss: 0.1430 - val_loss: 0.1401\n",
            "Epoch 18/100\n",
            "60000/60000 [==============================] - 4s 63us/step - loss: 0.1404 - val_loss: 0.1376\n",
            "Epoch 19/100\n",
            "60000/60000 [==============================] - 4s 62us/step - loss: 0.1380 - val_loss: 0.1353\n",
            "Epoch 20/100\n",
            "60000/60000 [==============================] - 4s 61us/step - loss: 0.1357 - val_loss: 0.1330\n",
            "Epoch 21/100\n",
            "60000/60000 [==============================] - 4s 62us/step - loss: 0.1336 - val_loss: 0.1310\n",
            "Epoch 22/100\n",
            "60000/60000 [==============================] - 4s 64us/step - loss: 0.1315 - val_loss: 0.1289\n",
            "Epoch 23/100\n",
            "60000/60000 [==============================] - 4s 62us/step - loss: 0.1295 - val_loss: 0.1269\n",
            "Epoch 24/100\n",
            "60000/60000 [==============================] - 4s 61us/step - loss: 0.1275 - val_loss: 0.1250\n",
            "Epoch 25/100\n",
            "60000/60000 [==============================] - 4s 61us/step - loss: 0.1257 - val_loss: 0.1232\n",
            "Epoch 26/100\n",
            "60000/60000 [==============================] - 4s 61us/step - loss: 0.1239 - val_loss: 0.1214\n",
            "Epoch 27/100\n",
            "60000/60000 [==============================] - 4s 61us/step - loss: 0.1222 - val_loss: 0.1198\n",
            "Epoch 28/100\n",
            "60000/60000 [==============================] - 4s 63us/step - loss: 0.1206 - val_loss: 0.1182\n",
            "Epoch 29/100\n",
            "60000/60000 [==============================] - 4s 66us/step - loss: 0.1190 - val_loss: 0.1167\n",
            "Epoch 30/100\n",
            "60000/60000 [==============================] - 4s 64us/step - loss: 0.1176 - val_loss: 0.1153\n",
            "Epoch 31/100\n",
            "60000/60000 [==============================] - 4s 65us/step - loss: 0.1162 - val_loss: 0.1140\n",
            "Epoch 32/100\n",
            "60000/60000 [==============================] - 4s 65us/step - loss: 0.1149 - val_loss: 0.1127\n",
            "Epoch 33/100\n",
            "60000/60000 [==============================] - 4s 63us/step - loss: 0.1137 - val_loss: 0.1116\n",
            "Epoch 34/100\n",
            "60000/60000 [==============================] - 4s 62us/step - loss: 0.1126 - val_loss: 0.1105\n",
            "Epoch 35/100\n",
            "60000/60000 [==============================] - 4s 62us/step - loss: 0.1116 - val_loss: 0.1095\n",
            "Epoch 36/100\n",
            "60000/60000 [==============================] - 4s 62us/step - loss: 0.1106 - val_loss: 0.1085\n",
            "Epoch 37/100\n",
            "60000/60000 [==============================] - 4s 63us/step - loss: 0.1097 - val_loss: 0.1077\n",
            "Epoch 38/100\n",
            "60000/60000 [==============================] - 4s 64us/step - loss: 0.1089 - val_loss: 0.1069\n",
            "Epoch 39/100\n",
            "60000/60000 [==============================] - 4s 64us/step - loss: 0.1081 - val_loss: 0.1061\n",
            "Epoch 40/100\n",
            "60000/60000 [==============================] - 4s 65us/step - loss: 0.1074 - val_loss: 0.1054\n",
            "Epoch 41/100\n",
            "60000/60000 [==============================] - 4s 64us/step - loss: 0.1067 - val_loss: 0.1048\n",
            "Epoch 42/100\n",
            "60000/60000 [==============================] - 4s 66us/step - loss: 0.1060 - val_loss: 0.1042\n",
            "Epoch 43/100\n",
            "60000/60000 [==============================] - 4s 66us/step - loss: 0.1054 - val_loss: 0.1036\n",
            "Epoch 44/100\n",
            "60000/60000 [==============================] - 4s 62us/step - loss: 0.1049 - val_loss: 0.1031\n",
            "Epoch 45/100\n",
            "60000/60000 [==============================] - 4s 62us/step - loss: 0.1044 - val_loss: 0.1026\n",
            "Epoch 46/100\n",
            "60000/60000 [==============================] - 4s 63us/step - loss: 0.1039 - val_loss: 0.1021\n",
            "Epoch 47/100\n",
            "60000/60000 [==============================] - 4s 64us/step - loss: 0.1034 - val_loss: 0.1016\n",
            "Epoch 48/100\n",
            "60000/60000 [==============================] - 4s 64us/step - loss: 0.1030 - val_loss: 0.1012\n",
            "Epoch 49/100\n",
            "60000/60000 [==============================] - 4s 66us/step - loss: 0.1026 - val_loss: 0.1009\n",
            "Epoch 50/100\n",
            "60000/60000 [==============================] - 4s 66us/step - loss: 0.1022 - val_loss: 0.1005\n",
            "Epoch 51/100\n",
            "60000/60000 [==============================] - 4s 65us/step - loss: 0.1019 - val_loss: 0.1002\n",
            "Epoch 52/100\n",
            "60000/60000 [==============================] - 4s 66us/step - loss: 0.1015 - val_loss: 0.0998\n",
            "Epoch 53/100\n",
            "60000/60000 [==============================] - 4s 66us/step - loss: 0.1012 - val_loss: 0.0995\n",
            "Epoch 54/100\n",
            "60000/60000 [==============================] - 4s 65us/step - loss: 0.1009 - val_loss: 0.0993\n",
            "Epoch 55/100\n",
            "60000/60000 [==============================] - 4s 65us/step - loss: 0.1006 - val_loss: 0.0990\n",
            "Epoch 56/100\n",
            "60000/60000 [==============================] - 4s 65us/step - loss: 0.1004 - val_loss: 0.0987\n",
            "Epoch 57/100\n",
            "60000/60000 [==============================] - 4s 65us/step - loss: 0.1001 - val_loss: 0.0985\n",
            "Epoch 58/100\n",
            "60000/60000 [==============================] - 4s 65us/step - loss: 0.0999 - val_loss: 0.0983\n",
            "Epoch 59/100\n",
            "60000/60000 [==============================] - 4s 63us/step - loss: 0.0997 - val_loss: 0.0981\n",
            "Epoch 60/100\n",
            "60000/60000 [==============================] - 4s 65us/step - loss: 0.0995 - val_loss: 0.0979\n",
            "Epoch 61/100\n",
            "60000/60000 [==============================] - 4s 64us/step - loss: 0.0993 - val_loss: 0.0977\n",
            "Epoch 62/100\n",
            "60000/60000 [==============================] - 4s 63us/step - loss: 0.0991 - val_loss: 0.0975\n",
            "Epoch 63/100\n",
            "60000/60000 [==============================] - 4s 65us/step - loss: 0.0989 - val_loss: 0.0974\n",
            "Epoch 64/100\n",
            "60000/60000 [==============================] - 4s 67us/step - loss: 0.0988 - val_loss: 0.0972\n",
            "Epoch 65/100\n",
            "60000/60000 [==============================] - 4s 66us/step - loss: 0.0986 - val_loss: 0.0970\n",
            "Epoch 66/100\n",
            "60000/60000 [==============================] - 4s 63us/step - loss: 0.0984 - val_loss: 0.0969\n",
            "Epoch 67/100\n",
            "60000/60000 [==============================] - 4s 66us/step - loss: 0.0983 - val_loss: 0.0968\n",
            "Epoch 68/100\n",
            "60000/60000 [==============================] - 4s 65us/step - loss: 0.0982 - val_loss: 0.0967\n",
            "Epoch 69/100\n",
            "60000/60000 [==============================] - 4s 64us/step - loss: 0.0980 - val_loss: 0.0965\n",
            "Epoch 70/100\n",
            "60000/60000 [==============================] - 4s 64us/step - loss: 0.0979 - val_loss: 0.0964\n",
            "Epoch 71/100\n",
            "60000/60000 [==============================] - 4s 65us/step - loss: 0.0978 - val_loss: 0.0963\n",
            "Epoch 72/100\n",
            "60000/60000 [==============================] - 4s 62us/step - loss: 0.0977 - val_loss: 0.0962\n",
            "Epoch 73/100\n",
            "60000/60000 [==============================] - 4s 62us/step - loss: 0.0976 - val_loss: 0.0961\n",
            "Epoch 74/100\n",
            "60000/60000 [==============================] - 4s 62us/step - loss: 0.0975 - val_loss: 0.0960\n",
            "Epoch 75/100\n",
            "60000/60000 [==============================] - 4s 62us/step - loss: 0.0974 - val_loss: 0.0959\n",
            "Epoch 76/100\n",
            "60000/60000 [==============================] - 4s 62us/step - loss: 0.0973 - val_loss: 0.0958\n",
            "Epoch 77/100\n",
            "60000/60000 [==============================] - 4s 62us/step - loss: 0.0972 - val_loss: 0.0957\n",
            "Epoch 78/100\n",
            "60000/60000 [==============================] - 4s 63us/step - loss: 0.0971 - val_loss: 0.0957\n",
            "Epoch 79/100\n",
            "60000/60000 [==============================] - 4s 61us/step - loss: 0.0971 - val_loss: 0.0956\n",
            "Epoch 80/100\n",
            "60000/60000 [==============================] - 4s 62us/step - loss: 0.0970 - val_loss: 0.0955\n",
            "Epoch 81/100\n",
            "60000/60000 [==============================] - 4s 59us/step - loss: 0.0969 - val_loss: 0.0954\n",
            "Epoch 82/100\n",
            "60000/60000 [==============================] - 4s 61us/step - loss: 0.0968 - val_loss: 0.0954\n",
            "Epoch 83/100\n",
            "60000/60000 [==============================] - 4s 60us/step - loss: 0.0968 - val_loss: 0.0953\n",
            "Epoch 84/100\n",
            "60000/60000 [==============================] - 4s 60us/step - loss: 0.0967 - val_loss: 0.0953\n",
            "Epoch 85/100\n",
            "60000/60000 [==============================] - 4s 60us/step - loss: 0.0966 - val_loss: 0.0952\n",
            "Epoch 86/100\n",
            "60000/60000 [==============================] - 4s 60us/step - loss: 0.0966 - val_loss: 0.0951\n",
            "Epoch 87/100\n",
            "60000/60000 [==============================] - 4s 59us/step - loss: 0.0965 - val_loss: 0.0951\n",
            "Epoch 88/100\n",
            "60000/60000 [==============================] - 4s 60us/step - loss: 0.0964 - val_loss: 0.0950\n",
            "Epoch 89/100\n",
            "60000/60000 [==============================] - 4s 62us/step - loss: 0.0964 - val_loss: 0.0950\n",
            "Epoch 90/100\n",
            "60000/60000 [==============================] - 4s 62us/step - loss: 0.0963 - val_loss: 0.0949\n",
            "Epoch 91/100\n",
            "60000/60000 [==============================] - 4s 62us/step - loss: 0.0963 - val_loss: 0.0949\n",
            "Epoch 92/100\n",
            "60000/60000 [==============================] - 4s 61us/step - loss: 0.0962 - val_loss: 0.0948\n",
            "Epoch 93/100\n",
            "60000/60000 [==============================] - 4s 60us/step - loss: 0.0962 - val_loss: 0.0947\n",
            "Epoch 94/100\n",
            "60000/60000 [==============================] - 4s 59us/step - loss: 0.0961 - val_loss: 0.0947\n",
            "Epoch 95/100\n",
            "60000/60000 [==============================] - 4s 61us/step - loss: 0.0961 - val_loss: 0.0947\n",
            "Epoch 96/100\n",
            "60000/60000 [==============================] - 4s 59us/step - loss: 0.0960 - val_loss: 0.0946\n",
            "Epoch 97/100\n",
            "60000/60000 [==============================] - 4s 59us/step - loss: 0.0960 - val_loss: 0.0946\n",
            "Epoch 98/100\n",
            "60000/60000 [==============================] - 4s 58us/step - loss: 0.0959 - val_loss: 0.0946\n",
            "Epoch 99/100\n",
            "60000/60000 [==============================] - 4s 59us/step - loss: 0.0959 - val_loss: 0.0945\n",
            "Epoch 100/100\n",
            "60000/60000 [==============================] - 4s 61us/step - loss: 0.0959 - val_loss: 0.0945\n"
          ],
          "name": "stdout"
        },
        {
          "output_type": "execute_result",
          "data": {
            "text/plain": [
              "<keras.callbacks.History at 0x7fbd6b282240>"
            ]
          },
          "metadata": {
            "tags": []
          },
          "execution_count": 61
        }
      ]
    },
    {
      "metadata": {
        "id": "HoX-2xlLjTyl",
        "colab_type": "code",
        "colab": {}
      },
      "cell_type": "code",
      "source": [
        "encoded_imgs = encoder.predict(x_test)\n",
        "decoded_imgs = decoder.predict(encoded_imgs)"
      ],
      "execution_count": 0,
      "outputs": []
    },
    {
      "metadata": {
        "id": "xhRWYDrXjgJD",
        "colab_type": "code",
        "colab": {
          "base_uri": "https://localhost:8080/",
          "height": 244
        },
        "outputId": "4da6fad7-a17d-4dbb-8aa3-8d2be7dafe94"
      },
      "cell_type": "code",
      "source": [
        "import matplotlib.pyplot as plt\n",
        "\n",
        "n = 10\n",
        "plt.figure(figsize =(20,4))\n",
        "for i in range(n):\n",
        "  ax = plt.subplot(2, n, i+1)\n",
        "  plt.imshow(x_test[i].reshape(28,28))\n",
        "  plt.gray()\n",
        "  ax.get_xaxis().set_visible(False)\n",
        "  ax.get_yaxis().set_visible(False)\n",
        "  \n",
        "  ax = plt.subplot(2, n, i+1+n)\n",
        "  plt.imshow(decoded_imgs[i].reshape(28,28))\n",
        "  plt.gray()\n",
        "  ax.get_xaxis().set_visible(False)\n",
        "  ax.get_yaxis().set_visible(False)\n",
        "plt.show()"
      ],
      "execution_count": 65,
      "outputs": [
        {
          "output_type": "display_data",
          "data": {
            "image/png": "[encoded data removed]",
            "text/plain": [
              "<Figure size 1440x288 with 20 Axes>"
            ]
          },
          "metadata": {
            "tags": []
          }
        }
      ]
    },
    {
      "metadata": {
        "id": "3JqZDtWMpcwH",
        "colab_type": "code",
        "colab": {}
      },
      "cell_type": "code",
      "source": [
        ""
      ],
      "execution_count": 0,
      "outputs": []
    }
  ]
}